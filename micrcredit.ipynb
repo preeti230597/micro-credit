{
 "cells": [
  {
   "cell_type": "code",
   "execution_count": 95,
   "metadata": {},
   "outputs": [],
   "source": [
    "import pandas as pd\n",
    "import numpy as np\n",
    "import matplotlib\n",
    "import seaborn as sns\n",
    "import matplotlib.pyplot as plt\n",
    "%matplotlib inline\n",
    "import warnings\n",
    "warnings.filterwarnings(\"ignore\")"
   ]
  },
  {
   "cell_type": "code",
   "execution_count": 96,
   "metadata": {},
   "outputs": [],
   "source": [
    "df=pd.read_csv(\"internship.csv\")"
   ]
  },
  {
   "cell_type": "code",
   "execution_count": 97,
   "metadata": {},
   "outputs": [
    {
     "data": {
      "text/html": [
       "<div>\n",
       "<style scoped>\n",
       "    .dataframe tbody tr th:only-of-type {\n",
       "        vertical-align: middle;\n",
       "    }\n",
       "\n",
       "    .dataframe tbody tr th {\n",
       "        vertical-align: top;\n",
       "    }\n",
       "\n",
       "    .dataframe thead th {\n",
       "        text-align: right;\n",
       "    }\n",
       "</style>\n",
       "<table border=\"1\" class=\"dataframe\">\n",
       "  <thead>\n",
       "    <tr style=\"text-align: right;\">\n",
       "      <th></th>\n",
       "      <th>Unnamed: 0</th>\n",
       "      <th>label</th>\n",
       "      <th>msisdn</th>\n",
       "      <th>aon</th>\n",
       "      <th>daily_decr30</th>\n",
       "      <th>daily_decr90</th>\n",
       "      <th>rental30</th>\n",
       "      <th>rental90</th>\n",
       "      <th>last_rech_date_ma</th>\n",
       "      <th>last_rech_date_da</th>\n",
       "      <th>...</th>\n",
       "      <th>maxamnt_loans30</th>\n",
       "      <th>medianamnt_loans30</th>\n",
       "      <th>cnt_loans90</th>\n",
       "      <th>amnt_loans90</th>\n",
       "      <th>maxamnt_loans90</th>\n",
       "      <th>medianamnt_loans90</th>\n",
       "      <th>payback30</th>\n",
       "      <th>payback90</th>\n",
       "      <th>pcircle</th>\n",
       "      <th>pdate</th>\n",
       "    </tr>\n",
       "  </thead>\n",
       "  <tbody>\n",
       "    <tr>\n",
       "      <th>0</th>\n",
       "      <td>1</td>\n",
       "      <td>0</td>\n",
       "      <td>21408I70789</td>\n",
       "      <td>272.0</td>\n",
       "      <td>3055.050000</td>\n",
       "      <td>3065.150000</td>\n",
       "      <td>220.13</td>\n",
       "      <td>260.13</td>\n",
       "      <td>2.0</td>\n",
       "      <td>0.0</td>\n",
       "      <td>...</td>\n",
       "      <td>6.0</td>\n",
       "      <td>0.0</td>\n",
       "      <td>2.0</td>\n",
       "      <td>12</td>\n",
       "      <td>6</td>\n",
       "      <td>0.0</td>\n",
       "      <td>29.000000</td>\n",
       "      <td>29.000000</td>\n",
       "      <td>UPW</td>\n",
       "      <td>20-07-2016</td>\n",
       "    </tr>\n",
       "    <tr>\n",
       "      <th>1</th>\n",
       "      <td>2</td>\n",
       "      <td>1</td>\n",
       "      <td>76462I70374</td>\n",
       "      <td>712.0</td>\n",
       "      <td>12122.000000</td>\n",
       "      <td>12124.750000</td>\n",
       "      <td>3691.26</td>\n",
       "      <td>3691.26</td>\n",
       "      <td>20.0</td>\n",
       "      <td>0.0</td>\n",
       "      <td>...</td>\n",
       "      <td>12.0</td>\n",
       "      <td>0.0</td>\n",
       "      <td>1.0</td>\n",
       "      <td>12</td>\n",
       "      <td>12</td>\n",
       "      <td>0.0</td>\n",
       "      <td>0.000000</td>\n",
       "      <td>0.000000</td>\n",
       "      <td>UPW</td>\n",
       "      <td>10-08-2016</td>\n",
       "    </tr>\n",
       "    <tr>\n",
       "      <th>2</th>\n",
       "      <td>3</td>\n",
       "      <td>1</td>\n",
       "      <td>17943I70372</td>\n",
       "      <td>535.0</td>\n",
       "      <td>1398.000000</td>\n",
       "      <td>1398.000000</td>\n",
       "      <td>900.13</td>\n",
       "      <td>900.13</td>\n",
       "      <td>3.0</td>\n",
       "      <td>0.0</td>\n",
       "      <td>...</td>\n",
       "      <td>6.0</td>\n",
       "      <td>0.0</td>\n",
       "      <td>1.0</td>\n",
       "      <td>6</td>\n",
       "      <td>6</td>\n",
       "      <td>0.0</td>\n",
       "      <td>0.000000</td>\n",
       "      <td>0.000000</td>\n",
       "      <td>UPW</td>\n",
       "      <td>19-08-2016</td>\n",
       "    </tr>\n",
       "    <tr>\n",
       "      <th>3</th>\n",
       "      <td>4</td>\n",
       "      <td>1</td>\n",
       "      <td>55773I70781</td>\n",
       "      <td>241.0</td>\n",
       "      <td>21.228000</td>\n",
       "      <td>21.228000</td>\n",
       "      <td>159.42</td>\n",
       "      <td>159.42</td>\n",
       "      <td>41.0</td>\n",
       "      <td>0.0</td>\n",
       "      <td>...</td>\n",
       "      <td>6.0</td>\n",
       "      <td>0.0</td>\n",
       "      <td>2.0</td>\n",
       "      <td>12</td>\n",
       "      <td>6</td>\n",
       "      <td>0.0</td>\n",
       "      <td>0.000000</td>\n",
       "      <td>0.000000</td>\n",
       "      <td>UPW</td>\n",
       "      <td>06-06-2016</td>\n",
       "    </tr>\n",
       "    <tr>\n",
       "      <th>4</th>\n",
       "      <td>5</td>\n",
       "      <td>1</td>\n",
       "      <td>03813I82730</td>\n",
       "      <td>947.0</td>\n",
       "      <td>150.619333</td>\n",
       "      <td>150.619333</td>\n",
       "      <td>1098.90</td>\n",
       "      <td>1098.90</td>\n",
       "      <td>4.0</td>\n",
       "      <td>0.0</td>\n",
       "      <td>...</td>\n",
       "      <td>6.0</td>\n",
       "      <td>0.0</td>\n",
       "      <td>7.0</td>\n",
       "      <td>42</td>\n",
       "      <td>6</td>\n",
       "      <td>0.0</td>\n",
       "      <td>2.333333</td>\n",
       "      <td>2.333333</td>\n",
       "      <td>UPW</td>\n",
       "      <td>22-06-2016</td>\n",
       "    </tr>\n",
       "  </tbody>\n",
       "</table>\n",
       "<p>5 rows × 37 columns</p>\n",
       "</div>"
      ],
      "text/plain": [
       "   Unnamed: 0  label       msisdn    aon  daily_decr30  daily_decr90  \\\n",
       "0           1      0  21408I70789  272.0   3055.050000   3065.150000   \n",
       "1           2      1  76462I70374  712.0  12122.000000  12124.750000   \n",
       "2           3      1  17943I70372  535.0   1398.000000   1398.000000   \n",
       "3           4      1  55773I70781  241.0     21.228000     21.228000   \n",
       "4           5      1  03813I82730  947.0    150.619333    150.619333   \n",
       "\n",
       "   rental30  rental90  last_rech_date_ma  last_rech_date_da  ...  \\\n",
       "0    220.13    260.13                2.0                0.0  ...   \n",
       "1   3691.26   3691.26               20.0                0.0  ...   \n",
       "2    900.13    900.13                3.0                0.0  ...   \n",
       "3    159.42    159.42               41.0                0.0  ...   \n",
       "4   1098.90   1098.90                4.0                0.0  ...   \n",
       "\n",
       "   maxamnt_loans30  medianamnt_loans30  cnt_loans90  amnt_loans90  \\\n",
       "0              6.0                 0.0          2.0            12   \n",
       "1             12.0                 0.0          1.0            12   \n",
       "2              6.0                 0.0          1.0             6   \n",
       "3              6.0                 0.0          2.0            12   \n",
       "4              6.0                 0.0          7.0            42   \n",
       "\n",
       "   maxamnt_loans90  medianamnt_loans90  payback30  payback90  pcircle  \\\n",
       "0                6                 0.0  29.000000  29.000000      UPW   \n",
       "1               12                 0.0   0.000000   0.000000      UPW   \n",
       "2                6                 0.0   0.000000   0.000000      UPW   \n",
       "3                6                 0.0   0.000000   0.000000      UPW   \n",
       "4                6                 0.0   2.333333   2.333333      UPW   \n",
       "\n",
       "        pdate  \n",
       "0  20-07-2016  \n",
       "1  10-08-2016  \n",
       "2  19-08-2016  \n",
       "3  06-06-2016  \n",
       "4  22-06-2016  \n",
       "\n",
       "[5 rows x 37 columns]"
      ]
     },
     "execution_count": 97,
     "metadata": {},
     "output_type": "execute_result"
    }
   ],
   "source": [
    "df.head()"
   ]
  },
  {
   "cell_type": "code",
   "execution_count": 98,
   "metadata": {},
   "outputs": [],
   "source": [
    "df.drop(\"Unnamed: 0\",axis=1,inplace=True)\n",
    "#dropping unnamed column as it is the index column "
   ]
  },
  {
   "cell_type": "markdown",
   "metadata": {},
   "source": [
    "There are no null values so we will now visualise our data set"
   ]
  },
  {
   "cell_type": "code",
   "execution_count": 101,
   "metadata": {},
   "outputs": [],
   "source": [
    "df['pdate'] = pd.to_datetime(df['pdate'])\n",
    "#converting the object data type to date time\n",
    "df['year'] = df['pdate'].dt.year\n",
    "df['month'] = df['pdate'].dt.month\n",
    "\n",
    "#subsequently splitting it into year and month"
   ]
  },
  {
   "cell_type": "code",
   "execution_count": 102,
   "metadata": {},
   "outputs": [],
   "source": [
    "df.drop([\"pdate\"],axis=1,inplace=True)"
   ]
  },
  {
   "cell_type": "code",
   "execution_count": 103,
   "metadata": {},
   "outputs": [],
   "source": [
    "df.drop([\"msisdn\"],axis=1,inplace=True)"
   ]
  },
  {
   "cell_type": "code",
   "execution_count": 104,
   "metadata": {},
   "outputs": [
    {
     "name": "stdout",
     "output_type": "stream",
     "text": [
      "pcircle : 1\n",
      "year : 1\n"
     ]
    }
   ],
   "source": [
    "columns=df.columns\n",
    "for i in columns:\n",
    "    count=len(df[i].unique())\n",
    "    if count<=1:\n",
    "        print(i,\":\",count)\n",
    "        \n",
    "#created a function to find out count of unique values , pcircle and year has only one value throughtout so we can drop it."
   ]
  },
  {
   "cell_type": "code",
   "execution_count": 105,
   "metadata": {},
   "outputs": [],
   "source": [
    "df.drop([\"pcircle\",\"year\"],axis=1,inplace=True)"
   ]
  },
  {
   "cell_type": "code",
   "execution_count": 106,
   "metadata": {},
   "outputs": [],
   "source": [
    "correlated_features = set()\n",
    "correlation_matrix = df.corr()\n",
    "for i in range(len(correlation_matrix .columns)):\n",
    "    for j in range(i):\n",
    "        if abs(correlation_matrix.iloc[i, j]) > 0.97:\n",
    "            colname = correlation_matrix.columns[i]\n",
    "            correlated_features.add(colname)\n",
    "    #creating a loop to find out the highly correlated variables and then drop them as the data then will be redundant\n",
    "    #we have set the correlation value as 0.95 ,if two columns have correlation more than this then that will be printed"
   ]
  },
  {
   "cell_type": "code",
   "execution_count": 107,
   "metadata": {},
   "outputs": [
    {
     "name": "stdout",
     "output_type": "stream",
     "text": [
      "{'daily_decr90'}\n"
     ]
    }
   ],
   "source": [
    "print(correlated_features)\n",
    "#we can drop these columns as they have high correlation"
   ]
  },
  {
   "cell_type": "code",
   "execution_count": 108,
   "metadata": {},
   "outputs": [],
   "source": [
    "df.drop([\"daily_decr90\"],axis=1,inplace=True)"
   ]
  },
  {
   "cell_type": "code",
   "execution_count": 109,
   "metadata": {
    "scrolled": true
   },
   "outputs": [
    {
     "data": {
      "text/plain": [
       "(209593, 33)"
      ]
     },
     "execution_count": 109,
     "metadata": {},
     "output_type": "execute_result"
    }
   ],
   "source": [
    "df.shape"
   ]
  },
  {
   "cell_type": "code",
   "execution_count": 110,
   "metadata": {},
   "outputs": [
    {
     "name": "stdout",
     "output_type": "stream",
     "text": [
      "label                      0\n",
      "aon                     1539\n",
      "daily_decr30            1839\n",
      "rental30                5628\n",
      "rental90                5929\n",
      "last_rech_date_ma       1315\n",
      "last_rech_date_da         14\n",
      "last_rech_amt_ma           0\n",
      "cnt_ma_rech30              0\n",
      "fr_ma_rech30               0\n",
      "sumamnt_ma_rech30          0\n",
      "medianamnt_ma_rech30       0\n",
      "medianmarechprebal30    1646\n",
      "cnt_ma_rech90              0\n",
      "fr_ma_rech90               0\n",
      "sumamnt_ma_rech90          0\n",
      "medianamnt_ma_rech90       0\n",
      "medianmarechprebal90    1730\n",
      "cnt_da_rech30              0\n",
      "fr_da_rech30               0\n",
      "cnt_da_rech90              0\n",
      "fr_da_rech90               0\n",
      "cnt_loans30                0\n",
      "amnt_loans30               0\n",
      "maxamnt_loans30            0\n",
      "medianamnt_loans30         0\n",
      "cnt_loans90                0\n",
      "amnt_loans90               0\n",
      "maxamnt_loans90            0\n",
      "medianamnt_loans90         0\n",
      "payback30                  0\n",
      "payback90                  0\n",
      "month                      0\n",
      "dtype: int64\n"
     ]
    }
   ],
   "source": [
    "print(df[df<0].count())\n",
    "for i in df.columns:\n",
    "    df[i] = df[i].abs()\n"
   ]
  },
  {
   "cell_type": "code",
   "execution_count": 112,
   "metadata": {},
   "outputs": [
    {
     "name": "stdout",
     "output_type": "stream",
     "text": [
      "label                   0\n",
      "aon                     0\n",
      "daily_decr30            0\n",
      "rental30                0\n",
      "rental90                0\n",
      "last_rech_date_ma       0\n",
      "last_rech_date_da       0\n",
      "last_rech_amt_ma        0\n",
      "cnt_ma_rech30           0\n",
      "fr_ma_rech30            0\n",
      "sumamnt_ma_rech30       0\n",
      "medianamnt_ma_rech30    0\n",
      "medianmarechprebal30    0\n",
      "cnt_ma_rech90           0\n",
      "fr_ma_rech90            0\n",
      "sumamnt_ma_rech90       0\n",
      "medianamnt_ma_rech90    0\n",
      "medianmarechprebal90    0\n",
      "cnt_da_rech30           0\n",
      "fr_da_rech30            0\n",
      "cnt_da_rech90           0\n",
      "fr_da_rech90            0\n",
      "cnt_loans30             0\n",
      "amnt_loans30            0\n",
      "maxamnt_loans30         0\n",
      "medianamnt_loans30      0\n",
      "cnt_loans90             0\n",
      "amnt_loans90            0\n",
      "maxamnt_loans90         0\n",
      "medianamnt_loans90      0\n",
      "payback30               0\n",
      "payback90               0\n",
      "month                   0\n",
      "dtype: int64\n"
     ]
    }
   ],
   "source": [
    "for i in df.columns:\n",
    "    df[i] = df[i].abs()\n",
    "print(df[df<0].count())\n"
   ]
  },
  {
   "cell_type": "code",
   "execution_count": 15,
   "metadata": {},
   "outputs": [
    {
     "data": {
      "text/plain": [
       "label                   1.000000\n",
       "cnt_ma_rech30           0.237331\n",
       "cnt_ma_rech90           0.236392\n",
       "sumamnt_ma_rech90       0.205793\n",
       "sumamnt_ma_rech30       0.202828\n",
       "amnt_loans90            0.199788\n",
       "amnt_loans30            0.197272\n",
       "cnt_loans30             0.196283\n",
       "daily_decr30            0.168298\n",
       "medianamnt_ma_rech30    0.141490\n",
       "last_rech_amt_ma        0.131804\n",
       "medianamnt_ma_rech90    0.120855\n",
       "fr_ma_rech90            0.084385\n",
       "maxamnt_loans90         0.084144\n",
       "rental90                0.075521\n",
       "rental30                0.058085\n",
       "payback90               0.049183\n",
       "payback30               0.048336\n",
       "medianamnt_loans30      0.044589\n",
       "medianmarechprebal90    0.039300\n",
       "medianamnt_loans90      0.035747\n",
       "month                   0.005093\n",
       "cnt_loans90             0.004733\n",
       "cnt_da_rech30           0.003827\n",
       "last_rech_date_ma       0.003728\n",
       "cnt_da_rech90           0.002999\n",
       "last_rech_date_da       0.001711\n",
       "fr_ma_rech30            0.001330\n",
       "maxamnt_loans30         0.000248\n",
       "fr_da_rech30           -0.000027\n",
       "aon                    -0.003785\n",
       "medianmarechprebal30   -0.004829\n",
       "fr_da_rech90           -0.005418\n",
       "Name: label, dtype: float64"
      ]
     },
     "execution_count": 15,
     "metadata": {},
     "output_type": "execute_result"
    }
   ],
   "source": [
    "corr_matrix=df.corr()\n",
    "corr_matrix[\"label\"].sort_values(ascending=False)\n"
   ]
  },
  {
   "cell_type": "code",
   "execution_count": 113,
   "metadata": {
    "scrolled": true
   },
   "outputs": [
    {
     "name": "stdout",
     "output_type": "stream",
     "text": [
      "<class 'pandas.core.frame.DataFrame'>\n",
      "RangeIndex: 209593 entries, 0 to 209592\n",
      "Data columns (total 33 columns):\n",
      " #   Column                Non-Null Count   Dtype  \n",
      "---  ------                --------------   -----  \n",
      " 0   label                 209593 non-null  int64  \n",
      " 1   aon                   209593 non-null  float64\n",
      " 2   daily_decr30          209593 non-null  float64\n",
      " 3   rental30              209593 non-null  float64\n",
      " 4   rental90              209593 non-null  float64\n",
      " 5   last_rech_date_ma     209593 non-null  float64\n",
      " 6   last_rech_date_da     209593 non-null  float64\n",
      " 7   last_rech_amt_ma      209593 non-null  int64  \n",
      " 8   cnt_ma_rech30         209593 non-null  int64  \n",
      " 9   fr_ma_rech30          209593 non-null  float64\n",
      " 10  sumamnt_ma_rech30     209593 non-null  float64\n",
      " 11  medianamnt_ma_rech30  209593 non-null  float64\n",
      " 12  medianmarechprebal30  209593 non-null  float64\n",
      " 13  cnt_ma_rech90         209593 non-null  int64  \n",
      " 14  fr_ma_rech90          209593 non-null  int64  \n",
      " 15  sumamnt_ma_rech90     209593 non-null  int64  \n",
      " 16  medianamnt_ma_rech90  209593 non-null  float64\n",
      " 17  medianmarechprebal90  209593 non-null  float64\n",
      " 18  cnt_da_rech30         209593 non-null  float64\n",
      " 19  fr_da_rech30          209593 non-null  float64\n",
      " 20  cnt_da_rech90         209593 non-null  int64  \n",
      " 21  fr_da_rech90          209593 non-null  int64  \n",
      " 22  cnt_loans30           209593 non-null  int64  \n",
      " 23  amnt_loans30          209593 non-null  int64  \n",
      " 24  maxamnt_loans30       209593 non-null  float64\n",
      " 25  medianamnt_loans30    209593 non-null  float64\n",
      " 26  cnt_loans90           209593 non-null  float64\n",
      " 27  amnt_loans90          209593 non-null  int64  \n",
      " 28  maxamnt_loans90       209593 non-null  int64  \n",
      " 29  medianamnt_loans90    209593 non-null  float64\n",
      " 30  payback30             209593 non-null  float64\n",
      " 31  payback90             209593 non-null  float64\n",
      " 32  month                 209593 non-null  int64  \n",
      "dtypes: float64(20), int64(13)\n",
      "memory usage: 52.8 MB\n"
     ]
    }
   ],
   "source": [
    "df.info()"
   ]
  },
  {
   "cell_type": "markdown",
   "metadata": {},
   "source": [
    "# Visualization"
   ]
  },
  {
   "cell_type": "code",
   "execution_count": 114,
   "metadata": {},
   "outputs": [],
   "source": [
    "df_class_0 = df[df['label'] == 0]\n",
    "df_class_1 = df[df['label'] == 1]"
   ]
  },
  {
   "cell_type": "code",
   "execution_count": 115,
   "metadata": {
    "scrolled": true
   },
   "outputs": [
    {
     "name": "stdout",
     "output_type": "stream",
     "text": [
      "Random under-sampling:\n",
      "1    183431\n",
      "0     26162\n",
      "Name: label, dtype: int64\n"
     ]
    },
    {
     "data": {
      "image/png": "[encoded data removed]",
      "text/plain": [
       "<Figure size 432x288 with 1 Axes>"
      ]
     },
     "metadata": {
      "needs_background": "light"
     },
     "output_type": "display_data"
    }
   ],
   "source": [
    "df_test_under = pd.concat([df_class_0, df_class_1], axis=0)\n",
    "\n",
    "print('Random under-sampling:')\n",
    "print(df_test_under.label.value_counts())\n",
    "\n",
    "df_test_under.label.value_counts().plot(kind='bar', title='Count (label)');"
   ]
  },
  {
   "cell_type": "code",
   "execution_count": 122,
   "metadata": {},
   "outputs": [
    {
     "name": "stdout",
     "output_type": "stream",
     "text": [
      "label\n",
      "0    1272.376756\n",
      "1    5967.455497\n",
      "Name: daily_decr30, dtype: float64\n"
     ]
    },
    {
     "data": {
      "image/png": "[encoded data removed]",
      "text/plain": [
       "<Figure size 432x288 with 1 Axes>"
      ]
     },
     "metadata": {
      "needs_background": "light"
     },
     "output_type": "display_data"
    }
   ],
   "source": [
    "plt.xlabel(\"label\", fontsize=10)\n",
    "plt.ylabel(\"daily_decr30\", fontsize=10)\n",
    "plt.xticks(rotation=90,fontsize=10)\n",
    "plt.yticks(rotation=0,fontsize=10)\n",
    "sns.barplot(x=\"label\",y=\"daily_decr30\",data=df)\n",
    "print(df.groupby(\"label\").daily_decr30.mean())"
   ]
  },
  {
   "cell_type": "markdown",
   "metadata": {},
   "source": [
    "Observation:\n",
    "\n",
    "The people who have daily amount spent from main account frequently have paid the loan more easily."
   ]
  },
  {
   "cell_type": "code",
   "execution_count": 121,
   "metadata": {},
   "outputs": [
    {
     "name": "stdout",
     "output_type": "stream",
     "text": [
      "label\n",
      "0    2329.486376\n",
      "1    3647.985363\n",
      "Name: rental90, dtype: float64\n"
     ]
    },
    {
     "data": {
      "image/png": "[encoded data removed]",
      "text/plain": [
       "<Figure size 432x288 with 1 Axes>"
      ]
     },
     "metadata": {
      "needs_background": "light"
     },
     "output_type": "display_data"
    }
   ],
   "source": [
    "plt.xlabel(\"label\", fontsize=10)\n",
    "plt.ylabel(\"rental90\", fontsize=10)\n",
    "plt.xticks(rotation=90,fontsize=10)\n",
    "plt.yticks(rotation=0,fontsize=10)\n",
    "sns.barplot(x=\"label\",y=\"rental90\",data=df)\n",
    "print(df.groupby(\"label\").rental90.mean())"
   ]
  },
  {
   "cell_type": "markdown",
   "metadata": {},
   "source": [
    "Observation:\n",
    "\n",
    "The people with more average main account balance over last 90 days have higher capacity of paying the loan easily."
   ]
  },
  {
   "cell_type": "code",
   "execution_count": 126,
   "metadata": {},
   "outputs": [
    {
     "name": "stdout",
     "output_type": "stream",
     "text": [
      "label\n",
      "0    3223.694134\n",
      "1    3831.746662\n",
      "Name: last_rech_date_ma, dtype: float64\n"
     ]
    },
    {
     "data": {
      "image/png": "[encoded data removed]",
      "text/plain": [
       "<Figure size 432x288 with 1 Axes>"
      ]
     },
     "metadata": {
      "needs_background": "light"
     },
     "output_type": "display_data"
    }
   ],
   "source": [
    "plt.xlabel(\"label\", fontsize=10)\n",
    "plt.ylabel(\"last_rech_date_ma\", fontsize=10)\n",
    "plt.xticks(rotation=90,fontsize=10)\n",
    "plt.yticks(rotation=0,fontsize=10)\n",
    "sns.barplot(x=\"label\",y=\"last_rech_date_ma\",data=df)\n",
    "print(df.groupby(\"label\").last_rech_date_ma.mean())"
   ]
  },
  {
   "cell_type": "code",
   "execution_count": 128,
   "metadata": {
    "scrolled": true
   },
   "outputs": [
    {
     "name": "stdout",
     "output_type": "stream",
     "text": [
      "label\n",
      "0    3470.381002\n",
      "1    3746.692974\n",
      "Name: last_rech_date_da, dtype: float64\n"
     ]
    },
    {
     "data": {
      "image/png": "[encoded data removed]",
      "text/plain": [
       "<Figure size 432x288 with 1 Axes>"
      ]
     },
     "metadata": {
      "needs_background": "light"
     },
     "output_type": "display_data"
    }
   ],
   "source": [
    "plt.xlabel(\"label\", fontsize=10)\n",
    "plt.ylabel(\"last_rech_date_da\", fontsize=10)\n",
    "plt.xticks(rotation=90,fontsize=10)\n",
    "plt.yticks(rotation=0,fontsize=10)\n",
    "sns.barplot(x=\"label\",y=\"last_rech_date_da\",data=df)\n",
    "print(df.groupby(\"label\").last_rech_date_da.mean())"
   ]
  },
  {
   "cell_type": "code",
   "execution_count": null,
   "metadata": {},
   "outputs": [],
   "source": []
  },
  {
   "cell_type": "code",
   "execution_count": 129,
   "metadata": {},
   "outputs": [
    {
     "name": "stdout",
     "output_type": "stream",
     "text": [
      "label\n",
      "0    0.038338\n",
      "1    0.041945\n",
      "Name: cnt_da_rech90, dtype: float64\n"
     ]
    },
    {
     "data": {
      "image/png": "[encoded data removed]",
      "text/plain": [
       "<Figure size 432x288 with 1 Axes>"
      ]
     },
     "metadata": {
      "needs_background": "light"
     },
     "output_type": "display_data"
    }
   ],
   "source": [
    "plt.xlabel(\"label\", fontsize=10)\n",
    "plt.ylabel(\"cnt_da_rech90\", fontsize=10)\n",
    "plt.xticks(rotation=90,fontsize=10)\n",
    "plt.yticks(rotation=0,fontsize=10)\n",
    "sns.barplot(x=\"label\",y=\"cnt_da_rech90\",data=df)\n",
    "print(df.groupby(\"label\").cnt_da_rech90.mean())"
   ]
  },
  {
   "cell_type": "code",
   "execution_count": null,
   "metadata": {},
   "outputs": [],
   "source": [
    "fr_ma_rech90"
   ]
  },
  {
   "cell_type": "code",
   "execution_count": 35,
   "metadata": {
    "scrolled": false
   },
   "outputs": [
    {
     "data": {
      "image/png": "[encoded data removed]",
      "text/plain": [
       "<Figure size 432x288 with 1 Axes>"
      ]
     },
     "metadata": {
      "needs_background": "light"
     },
     "output_type": "display_data"
    }
   ],
   "source": [
    "pd.crosstab(df.medianamnt_loans30,df[\"label\"]).plot(kind='bar')\n"
   ]
  },
  {
   "cell_type": "markdown",
   "metadata": {},
   "source": [
    "Observation:\n",
    "\n",
    "For the one paying loan easily ,the median amount of loan taken within 30 days is more"
   ]
  },
  {
   "cell_type": "code",
   "execution_count": null,
   "metadata": {},
   "outputs": [],
   "source": [
    "medianamnt_loans30 "
   ]
  },
  {
   "cell_type": "code",
   "execution_count": 46,
   "metadata": {
    "scrolled": true
   },
   "outputs": [
    {
     "name": "stdout",
     "output_type": "stream",
     "text": [
      "3.0 , 0.0\n"
     ]
    }
   ],
   "source": [
    "print(df.medianamnt_loans30.max(),\",\",df.medianamnt_loans30.min())"
   ]
  },
  {
   "cell_type": "code",
   "execution_count": 48,
   "metadata": {
    "scrolled": true
   },
   "outputs": [
    {
     "data": {
      "image/png": "[encoded data removed]",
      "text/plain": [
       "<Figure size 432x288 with 1 Axes>"
      ]
     },
     "metadata": {
      "needs_background": "light"
     },
     "output_type": "display_data"
    }
   ],
   "source": [
    "ax=pd.crosstab(df.label,df.medianamnt_loans30).plot(kind='bar')\n"
   ]
  },
  {
   "cell_type": "markdown",
   "metadata": {},
   "source": [
    "Observation:\n",
    "    \n",
    "The median amount of loan taken by user in last 30 days is mostly zero for both the one who payed the loan on time and for the one who did not payed the loan on time."
   ]
  },
  {
   "cell_type": "code",
   "execution_count": 41,
   "metadata": {
    "scrolled": true
   },
   "outputs": [
    {
     "name": "stdout",
     "output_type": "stream",
     "text": [
      "99864.56086 , 0.0\n"
     ]
    },
    {
     "data": {
      "image/png": "[encoded data removed]",
      "text/plain": [
       "<Figure size 864x360 with 1 Axes>"
      ]
     },
     "metadata": {
      "needs_background": "light"
     },
     "output_type": "display_data"
    }
   ],
   "source": [
    "plt.figure(figsize=(12,5))\n",
    "sns.distplot(df[\"maxamnt_loans30\"], color = 'b')\n",
    "print(df.maxamnt_loans30.max(),\",\",df.maxamnt_loans30.min())"
   ]
  },
  {
   "cell_type": "code",
   "execution_count": 42,
   "metadata": {},
   "outputs": [
    {
     "data": {
      "text/plain": [
       "209593"
      ]
     },
     "execution_count": 42,
     "metadata": {},
     "output_type": "execute_result"
    }
   ],
   "source": [
    "(df[\"maxamnt_loans30\"]==0).count()"
   ]
  },
  {
   "cell_type": "markdown",
   "metadata": {},
   "source": [
    "Observation:\n",
    "    \n",
    "Fromthe abve we can see that the maximum loan amount taken within 30 days is 99864.56086 and minimum amount is 0.0 .Also a lot of peoople have not taken no loan within that time period"
   ]
  },
  {
   "cell_type": "code",
   "execution_count": 49,
   "metadata": {
    "scrolled": false
   },
   "outputs": [
    {
     "name": "stdout",
     "output_type": "stream",
     "text": [
      "label\n",
      "0     9.642382\n",
      "1    25.642590\n",
      "Name: amnt_loans90, dtype: float64\n"
     ]
    },
    {
     "data": {
      "image/png": "[encoded data removed]",
      "text/plain": [
       "<Figure size 432x288 with 1 Axes>"
      ]
     },
     "metadata": {
      "needs_background": "light"
     },
     "output_type": "display_data"
    }
   ],
   "source": [
    "plt.xlabel(\"label\", fontsize=10)\n",
    "plt.ylabel(\"amnt_loans90\", fontsize=10)\n",
    "plt.xticks(rotation=90,fontsize=10)\n",
    "plt.yticks(rotation=0,fontsize=10)\n",
    "sns.barplot(x=\"label\",y=\"amnt_loans90\",data=df)\n",
    "print(df.groupby(\"label\").amnt_loans90.mean())"
   ]
  },
  {
   "cell_type": "markdown",
   "metadata": {},
   "source": [
    "Observation:\n",
    "    \n",
    "This depicts that people who have taken loan within the last 90 days are more prone of returning he loan within the required time.\n"
   ]
  },
  {
   "cell_type": "code",
   "execution_count": 51,
   "metadata": {},
   "outputs": [
    {
     "name": "stdout",
     "output_type": "stream",
     "text": [
      "438 , 0\n"
     ]
    }
   ],
   "source": [
    "print(df.amnt_loans90.max(),\",\",df.amnt_loans90.min())\n",
    "From this we can see that the maximum amount of loan taken by the yser in last 90 days is 438 and minimum is 0.\n"
   ]
  },
  {
   "cell_type": "code",
   "execution_count": 50,
   "metadata": {},
   "outputs": [
    {
     "name": "stdout",
     "output_type": "stream",
     "text": [
      "label\n",
      "0    271.873754\n",
      "1    275.055959\n",
      "Name: maxamnt_loans30, dtype: float64\n"
     ]
    },
    {
     "data": {
      "image/png": "[encoded data removed]",
      "text/plain": [
       "<Figure size 432x288 with 1 Axes>"
      ]
     },
     "metadata": {
      "needs_background": "light"
     },
     "output_type": "display_data"
    }
   ],
   "source": [
    "plt.xlabel(\"label\", fontsize=10)\n",
    "plt.ylabel(\"maxamnt_loans30\", fontsize=10)\n",
    "plt.xticks(rotation=90,fontsize=10)\n",
    "plt.yticks(rotation=0,fontsize=10)\n",
    "sns.barplot(x=\"label\",y=\"maxamnt_loans30\",data=df)\n",
    "print(df.groupby(\"label\").maxamnt_loans30.mean())"
   ]
  },
  {
   "cell_type": "markdown",
   "metadata": {},
   "source": [
    "Observation:\n",
    "\n",
    "The one paying loan and the one not paying have both have same frequency for the maximum amount of loan user took as a lot of people had nt taken any loan.."
   ]
  },
  {
   "cell_type": "code",
   "execution_count": 55,
   "metadata": {
    "scrolled": true
   },
   "outputs": [
    {
     "name": "stdout",
     "output_type": "stream",
     "text": [
      "64 , 0\n"
     ]
    },
    {
     "data": {
      "image/png": "[encoded data removed]",
      "text/plain": [
       "<Figure size 864x360 with 1 Axes>"
      ]
     },
     "metadata": {
      "needs_background": "light"
     },
     "output_type": "display_data"
    }
   ],
   "source": [
    "plt.figure(figsize=(12,5))\n",
    "sns.distplot(df[\"fr_da_rech90\"], color = 'b')\n",
    "print(df.fr_da_rech90.max(),\",\",df.fr_da_rech90.min())"
   ]
  },
  {
   "cell_type": "markdown",
   "metadata": {},
   "source": [
    "Observation:\n",
    "\n",
    "From the above it is clear that a huge chunk of peple have not recharged datawithin last 90 days"
   ]
  },
  {
   "cell_type": "code",
   "execution_count": 116,
   "metadata": {},
   "outputs": [],
   "source": [
    "x_re=df.drop(\"label\",axis=1)\n",
    "y=df[\"label\"]"
   ]
  },
  {
   "cell_type": "code",
   "execution_count": 118,
   "metadata": {},
   "outputs": [],
   "source": [
    "from sklearn.ensemble import RandomForestClassifier\n",
    "from sklearn.linear_model import LogisticRegression\n",
    "from sklearn.neighbors import KNeighborsClassifier\n",
    "from sklearn.tree import DecisionTreeClassifier\n",
    "from sklearn.metrics import accuracy_score,confusion_matrix,classification_report\n",
    "from sklearn.metrics import f1_score\n",
    "from sklearn import svm  \n",
    "from sklearn.metrics import precision_score\n",
    "from sklearn.model_selection import cross_val_score\n",
    "\n",
    "from sklearn.metrics import recall_score\n"
   ]
  },
  {
   "cell_type": "code",
   "execution_count": 119,
   "metadata": {},
   "outputs": [
    {
     "name": "stdout",
     "output_type": "stream",
     "text": [
      "Counter({1: 183431, 0: 26162})\n",
      "Counter({0: 26162, 1: 26162})\n"
     ]
    }
   ],
   "source": [
    "from numpy import where\n",
    "# Undersample imbalanced dataset with NearMiss-1\n",
    "from collections import Counter\n",
    "from sklearn.datasets import make_classification\n",
    "from imblearn.under_sampling import NearMiss\n",
    "from matplotlib import pyplot\n",
    "undersample = NearMiss(version=1, n_neighbors=3)\n",
    "# transform the dataset\n",
    "X, Y = undersample.fit_resample(x_re, y)\n",
    "# summarize the new class distribution\n",
    "\n",
    "print(format(Counter(y)))\n",
    "print(format(Counter(Y)))\n",
    "\n",
    "# scatter plot of examples by class label\n"
   ]
  },
  {
   "cell_type": "code",
   "execution_count": 120,
   "metadata": {},
   "outputs": [],
   "source": [
    "output=pd.DataFrame(Y)\n",
    "df_class_0_= output[output['label'] == 0]\n",
    "df_class_1_ = output[output['label'] == 1]"
   ]
  },
  {
   "cell_type": "code",
   "execution_count": 121,
   "metadata": {
    "scrolled": true
   },
   "outputs": [
    {
     "name": "stdout",
     "output_type": "stream",
     "text": [
      "Random under-sampling:\n",
      "1    26162\n",
      "0    26162\n",
      "Name: label, dtype: int64\n"
     ]
    },
    {
     "data": {
      "image/png": "[encoded data removed]",
      "text/plain": [
       "<Figure size 432x288 with 1 Axes>"
      ]
     },
     "metadata": {
      "needs_background": "light"
     },
     "output_type": "display_data"
    }
   ],
   "source": [
    "df_test_under_ = pd.concat([df_class_0_, df_class_1_], axis=0)\n",
    "\n",
    "print('Random under-sampling:')\n",
    "print(df_test_under_.label.value_counts())\n",
    "\n",
    "df_test_under_.label.value_counts().plot(kind='bar', title='Count (label)');"
   ]
  },
  {
   "cell_type": "code",
   "execution_count": 122,
   "metadata": {},
   "outputs": [
    {
     "name": "stdout",
     "output_type": "stream",
     "text": [
      "(209593, 33)\n"
     ]
    }
   ],
   "source": [
    "print(df.shape)"
   ]
  },
  {
   "cell_type": "code",
   "execution_count": 123,
   "metadata": {},
   "outputs": [],
   "source": [
    "from sklearn.preprocessing import StandardScaler\n",
    "sc=StandardScaler()\n",
    "sc.fit(X)\n",
    "x=sc.transform(X)\n",
    "x=pd.DataFrame(x,columns=X.columns)"
   ]
  },
  {
   "cell_type": "code",
   "execution_count": 124,
   "metadata": {},
   "outputs": [],
   "source": [
    "from sklearn.model_selection import train_test_split\n",
    "\n",
    "X_train,X_test,Y_train,Y_test=train_test_split(x,Y,random_state = 47,test_size=0.20)\n"
   ]
  },
  {
   "cell_type": "code",
   "execution_count": 125,
   "metadata": {},
   "outputs": [
    {
     "name": "stdout",
     "output_type": "stream",
     "text": [
      "Score of LogisticRegression() is 0.7325370281892021\n",
      "Cross val score: 0.7088318988882412\n",
      "\n",
      "\n",
      "Score of DecisionTreeClassifier() is 0.8097467749641662\n",
      "Cross val score: 0.7481648910523063\n",
      "\n",
      "\n"
     ]
    }
   ],
   "source": [
    "model=[LogisticRegression(),DecisionTreeClassifier()]\n",
    "for m in model:\n",
    "    m.fit(X_train,Y_train)\n",
    "    predm=m.predict(X_test)\n",
    "    print(\"Score of\",m,\"is\",accuracy_score(Y_test,predm))\n",
    "    print(\"Cross val score:\",cross_val_score(m,x,Y,cv=5,scoring=\"accuracy\").mean())\n",
    "    print(\"\\n\")"
   ]
  },
  {
   "cell_type": "code",
   "execution_count": 126,
   "metadata": {
    "scrolled": true
   },
   "outputs": [
    {
     "name": "stdout",
     "output_type": "stream",
     "text": [
      "Score of RandomForestClassifier() is 0.8668896321070234\n",
      "Cross val score: 0.7921406855675902\n",
      "\n",
      "\n",
      "Score of KNeighborsClassifier() is 0.7687529861442904\n",
      "Cross val score: 0.6986666253902991\n",
      "\n",
      "\n"
     ]
    }
   ],
   "source": [
    "model1=[RandomForestClassifier(),KNeighborsClassifier()]\n",
    "for m in model1:\n",
    "    m.fit(X_train,Y_train)\n",
    "    predm=m.predict(X_test)\n",
    "    print(\"Score of\",m,\"is\",accuracy_score(Y_test,predm))\n",
    "    print(\"Cross val score:\",cross_val_score(m,x,Y,cv=5,scoring=\"accuracy\").mean())\n",
    "    print(\"\\n\")"
   ]
  },
  {
   "cell_type": "code",
   "execution_count": 86,
   "metadata": {},
   "outputs": [
    {
     "name": "stdout",
     "output_type": "stream",
     "text": [
      "Score is 0.8687052078356426\n",
      "Cross val score: 0.7965937645654438\n"
     ]
    }
   ],
   "source": [
    "from sklearn.ensemble import AdaBoostClassifier\n",
    "\n",
    "adb=AdaBoostClassifier(base_estimator=rfc,n_estimators=200,random_state=42,algorithm=\"SAMME\")\n",
    "adb.fit(X_train,Y_train)\n",
    "predab=adb.predict(X_test)\n",
    "print(\"Score is\",accuracy_score(Y_test,predab))\n",
    "print(\"Cross val score:\",cross_val_score(adb,x,Y,cv=5,scoring=\"accuracy\").mean())"
   ]
  },
  {
   "cell_type": "code",
   "execution_count": 85,
   "metadata": {
    "scrolled": true
   },
   "outputs": [],
   "source": [
    "rfc=RandomForestClassifier(random_state=42)\n",
    "rfc.fit(X_train,Y_train)\n",
    "y_pred=rfc.predict(X_test)"
   ]
  },
  {
   "cell_type": "code",
   "execution_count": 89,
   "metadata": {},
   "outputs": [
    {
     "name": "stdout",
     "output_type": "stream",
     "text": [
      "classification report \n",
      "               precision    recall  f1-score   support\n",
      "\n",
      "           0       0.88      0.85      0.86      5138\n",
      "           1       0.86      0.89      0.87      5327\n",
      "\n",
      "    accuracy                           0.87     10465\n",
      "   macro avg       0.87      0.87      0.87     10465\n",
      "weighted avg       0.87      0.87      0.87     10465\n",
      "\n"
     ]
    }
   ],
   "source": [
    "from sklearn.metrics import confusion_matrix\n",
    "from sklearn.metrics import classification_report\n",
    "from sklearn.metrics import f1_score\n",
    "print(\"classification report \\n\",classification_report(Y_test,predab))"
   ]
  },
  {
   "cell_type": "code",
   "execution_count": 90,
   "metadata": {},
   "outputs": [
    {
     "name": "stdout",
     "output_type": "stream",
     "text": [
      "Confusion matrix:\n",
      " [[4366  772]\n",
      " [ 602 4725]]\n"
     ]
    },
    {
     "data": {
      "image/png": "[encoded data removed]",
      "text/plain": [
       "<Figure size 432x288 with 2 Axes>"
      ]
     },
     "metadata": {
      "needs_background": "light"
     },
     "output_type": "display_data"
    }
   ],
   "source": [
    "conf_mat = confusion_matrix(y_true=Y_test, y_pred=predab)\n",
    "print('Confusion matrix:\\n', conf_mat)\n",
    "\n",
    "labels = ['Class 0', 'Class 1']\n",
    "fig = plt.figure()\n",
    "ax = fig.add_subplot(111)\n",
    "cax = ax.matshow(conf_mat, cmap=plt.cm.Blues)\n",
    "fig.colorbar(cax)\n",
    "ax.set_xticklabels([''] + labels)\n",
    "ax.set_yticklabels([''] + labels)\n",
    "plt.xlabel('Predicted')\n",
    "plt.ylabel('Expected')\n",
    "plt.show()"
   ]
  },
  {
   "cell_type": "code",
   "execution_count": 91,
   "metadata": {
    "scrolled": true
   },
   "outputs": [
    {
     "data": {
      "image/png": "[encoded data removed]",
      "text/plain": [
       "<Figure size 432x288 with 1 Axes>"
      ]
     },
     "metadata": {
      "needs_background": "light"
     },
     "output_type": "display_data"
    }
   ],
   "source": [
    "from sklearn.metrics import roc_curve\n",
    "from sklearn import metrics\n",
    "\n",
    "y_pred_proba = adb.predict_proba(X_test)[::,1]\n",
    "fpr, tpr, _ = metrics.roc_curve(Y_test,  y_pred_proba)\n",
    "auc = metrics.roc_auc_score(Y_test, y_pred_proba)\n",
    "plt.plot(fpr,tpr,label=\"data 1, auc=\"+str(auc))\n",
    "plt.legend(loc=4)\n",
    "plt.show()"
   ]
  },
  {
   "cell_type": "code",
   "execution_count": null,
   "metadata": {},
   "outputs": [],
   "source": []
  }
 ],
 "metadata": {
  "kernelspec": {
   "display_name": "Python 3",
   "language": "python",
   "name": "python3"
  },
  "language_info": {
   "codemirror_mode": {
    "name": "ipython",
    "version": 3
   },
   "file_extension": ".py",
   "mimetype": "text/x-python",
   "name": "python",
   "nbconvert_exporter": "python",
   "pygments_lexer": "ipython3",
   "version": "3.8.3"
  }
 },
 "nbformat": 4,
 "nbformat_minor": 4
}
